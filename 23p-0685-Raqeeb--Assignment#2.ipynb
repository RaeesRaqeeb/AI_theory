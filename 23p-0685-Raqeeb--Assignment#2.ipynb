{
 "cells": [
  {
   "cell_type": "markdown",
   "metadata": {},
   "source": [
    "# Assignment # 2 RAQEEB 23p-0685 \n"
   ]
  },
  {
   "cell_type": "code",
   "execution_count": 24,
   "metadata": {},
   "outputs": [],
   "source": [
    "import numpy as np\n",
    "import pandas as pd"
   ]
  },
  {
   "cell_type": "markdown",
   "metadata": {},
   "source": []
  },
  {
   "cell_type": "markdown",
   "metadata": {},
   "source": [
    "<ol>\n",
    "<li>Please solve each question by yourself.</li>\n",
    "<li>Please Don't try to use chatgpt or any other AI software. It is like a practice material for your upcoming exam.</li>\n",
    "<li> Only Use Numpy methods in Section 1 While Pandas in Section 2. Explore New methods too. To check numpy,pandas etc methods in details try to check its documentation.</li>\n",
    "<ol>\n",
    "   "
   ]
  },
  {
   "cell_type": "markdown",
   "metadata": {},
   "source": [
    "### Section 1:   Numpy"
   ]
  },
  {
   "cell_type": "markdown",
   "metadata": {},
   "source": [
    "`Q-1` Create a random array of 20 size using numpy ( it should include negative numbers too ). Replace all negative numbers with the average of the positive values in the array."
   ]
  },
  {
   "cell_type": "code",
   "execution_count": 25,
   "metadata": {},
   "outputs": [
    {
     "name": "stdout",
     "output_type": "stream",
     "text": [
      "Newly randomly generated array:\n",
      "[-31 -46 -59 -84  92 -78 -60  24 -88 -58 -87  -1 -50 -22 -29  93 -90 -60\n",
      " -53  19]\n",
      "positive_Integers: [92 24 93 19]\n",
      "Required array:\n",
      "[57 57 57 57 92 57 57 24 57 57 57 57 57 57 57 93 57 57 57 19]\n"
     ]
    }
   ],
   "source": [
    "# code here\n",
    "My_array=((np.random.randint(-100,100,20)))\n",
    "print(\"Newly randomly generated array:\")\n",
    "print(My_array)\n",
    "positive_Integers=My_array[My_array >0]\n",
    "print(\"positive_Integers:\",positive_Integers)\n",
    "Sum_positive=sum(positive_Integers)\n",
    "average=Sum_positive/len(positive_Integers)\n",
    "My_array[My_array < 0]=average\n",
    "\n",
    "print(\"Required array:\")\n",
    "print(My_array)"
   ]
  },
  {
   "cell_type": "markdown",
   "metadata": {},
   "source": [
    "`Q-2` Create two random 3x3 matrices. Perform matrix multiplication, calculate the determinant of each matrix, and verify ( if-else ) if the product matrix is invertible. If it is, calculate its inverse."
   ]
  },
  {
   "cell_type": "markdown",
   "metadata": {},
   "source": [
    "<p>A matrix is <strong>invertible</strong> if and only if its determinant is non-zero.</p>\n",
    "\n",
    "<p>The inverse of a matrix A is a matrix A<sup>-1</sup> such that:</p>\n",
    "\n",
    "<p>\n",
    "  A × A<sup>-1</sup> = I\n",
    "</p>\n",
    "\n",
    "<p>where I is the identity matrix.</p>\n",
    "\n",
    "<strong>Note: Use np.round() to round off extremely small values </strong>"
   ]
  },
  {
   "cell_type": "markdown",
   "metadata": {},
   "source": [
    "### Example 1:\n",
    "\n",
    "#### Input:\n",
    "```python\n",
    "# Random 3x3 matrices\n",
    "matrix1 = [[1, 2, 3], \n",
    "           [4, 5, 6], \n",
    "           [7, 8, 9]]\n",
    "\n",
    "matrix2 = [[9, 8, 7], \n",
    "           [6, 5, 4], \n",
    "           [3, 2, 1]]\n",
    "```\n",
    "\n",
    "#### Output:\n",
    "<strong> Matrix Multiplication </strong> <br>\n",
    "Product Matrix = \n",
    "[[30, 24, 18],\n",
    " [84, 69, 54],\n",
    " [138, 114, 90]]\n",
    "\n",
    "<strong> Determinants </strong> <br>\n",
    "Determinant of matrix1: 0 <br>\n",
    "Determinant of matrix2: 0  <br>\n",
    "Determinant of product matrix: 0  <br>\n",
    "\n",
    "<strong> Invertibility Check </strong>\n",
    "The product matrix is not invertible (determinant is 0).\n",
    "\n",
    "### Example 2:\n",
    "\n",
    "#### Input:\n",
    "```python\n",
    "# Random 3x3 matrices\n",
    "matrix1 = [[4, 7, 1], \n",
    "           [2, 6, 5], \n",
    "           [3, 8, 9]]\n",
    "\n",
    "matrix2 = [[9, 3, 4], \n",
    "           [7, 5, 2], \n",
    "           [6, 1, 8]]\n",
    "```\n",
    "\n",
    "#### Output:\n",
    "<strong> Matrix Multiplication </strong> <br>\n",
    "Product Matrix = \n",
    "[[ 91  48  38]\n",
    " [ 90  41  60]\n",
    " [137  58 100]]\n",
    "\n",
    "<strong> Determinants </strong> <br>\n",
    "Determinant of matrix1: 33.0 <br>\n",
    "Determinant of matrix2: 118.0 <br>\n",
    "Determinant of product matrix: 3894.0<br>\n",
    "\n",
    "<strong> Invertibility Check </strong>\n",
    "The product matrix is invertible (determinant is not 0).\n",
    "\n",
    "<strong>Inverse of Product Matrix </strong>\n",
    "Inverse Matrix = \n",
    "[[ 0.15921931 -0.66666667  0.33949666]\n",
    " [-0.20030817  1.         -0.5238829 ]\n",
    " [-0.10195172  0.33333333 -0.15125835]]"
   ]
  },
  {
   "cell_type": "code",
   "execution_count": 26,
   "metadata": {},
   "outputs": [
    {
     "name": "stdout",
     "output_type": "stream",
     "text": [
      "Deteminant:\n",
      "Marix1: -143.9999999999999 \n",
      "Matrix2: -10.000000000000002\n",
      "Product Matrix:\n",
      " [[70 67 50]\n",
      " [84 85 62]\n",
      " [27 31 26]]\n",
      "Deteminant of Product Matrix: 1439.999999999998\n",
      "Inverse of the matrix is possible\n",
      "Inverse of the Product Matrix is:\n",
      " [[ 0.2        -0.13333333 -0.06666667]\n",
      " [-0.35416667  0.32638889 -0.09722222]\n",
      " [ 0.21458333 -0.25069444  0.22361111]]\n"
     ]
    }
   ],
   "source": [
    "# code here\n",
    "My_array1=np.random.randint(1,10,(3,3))\n",
    "My_array2=np.random.randint(1,5,(3,3))\n",
    "# print(My_array1)\n",
    "# print(My_array2)\n",
    "\n",
    "print(\"Deteminant:\\nMarix1:\",np.linalg.det(My_array1),\"\\nMatrix2:\",np.linalg.det(My_array2))\n",
    "\n",
    "My_array3=np.dot(My_array1,My_array2)\n",
    "print(\"Product Matrix:\\n\",My_array3)\n",
    "\n",
    "# print(My_array1 @ My_array2) another method of doing multiplication in matrix\n",
    "\n",
    "dete_result=np.linalg.det(My_array3)\n",
    "print(\"Deteminant of Product Matrix:\",dete_result)\n",
    "\n",
    "if(dete_result !=  0):\n",
    "    print(\"Inverse of the matrix is possible\")\n",
    "    print(\"Inverse of the Product Matrix is:\\n\",np.linalg.inv(My_array3))\n",
    "else:\n",
    "    print(\"Inverse of the matrix is not possible\")\n",
    "\n",
    "\n",
    "\n"
   ]
  },
  {
   "cell_type": "markdown",
   "metadata": {},
   "source": [
    "`Q-3` <strong>Write each solution in 1 or 2 Line code ( not hard coded )</strong>\n",
    "<ol>\n",
    "<li>Create a null (zero) vector of size 10 but the fifth value which is 1. Like this [0 0 0 0 1 0 0 0 0 0].</li>\n",
    "<li>Create Identity matrix of size (4,4).</li>\n",
    "<li>Create a 5x5 matrix with row values ranging from 0 to 4. All 5 rows should look like this 0 1 2 3 4</li>\n",
    "<li>Replace odd elements in arrays with -1. [[1,2,3],[4,8,6],[9,5,7]] to [[-1,  2, -1],[ 4,  8,  6],[-1, -1, -1]]</li>\n",
    "</ol>"
   ]
  },
  {
   "cell_type": "code",
   "execution_count": 27,
   "metadata": {},
   "outputs": [
    {
     "name": "stdout",
     "output_type": "stream",
     "text": [
      "[0 0 0 0 1 0 0 0 0 0]\n",
      "[[0 1 2 3 4]\n",
      " [0 1 2 3 4]\n",
      " [0 1 2 3 4]\n",
      " [0 1 2 3 4]\n",
      " [0 1 2 3 4]]\n",
      "[[ 0 -1  2 -1  4]\n",
      " [ 0 -1  2 -1  4]\n",
      " [ 0 -1  2 -1  4]\n",
      " [ 0 -1  2 -1  4]\n",
      " [ 0 -1  2 -1  4]]\n"
     ]
    }
   ],
   "source": [
    "# code here\n",
    "# Null_vector=np.vector\n",
    "# Null_vector=np.random.randint(0,0,10)\n",
    "# print(Null_vector)\n",
    "\n",
    "#1\n",
    "Null_vector=np.random.randint(0,1,10)\n",
    "Null_vector[4]=1\n",
    "print(Null_vector)\n",
    "\n",
    "#2\n",
    "Array_Iden=np.identity(4)\n",
    "# np.random.seed(1)\n",
    "# print(Sequence)\n",
    "# print(np.random.rand(2,3)) rand give between 1 to 0\n",
    "# print(np.random.randn(2,2)) This generate such numbers whose mean=0 and SD=1\n",
    "# print(np.random.choice(['apple','banana','mango']))\n",
    "# my_array4=np.random.randint(0,5,(5,5)\n",
    "\n",
    "#3\n",
    "Sequence=sorted(np.random.permutation(5))\n",
    "my_array4=np.tile(Sequence,(5,1))\n",
    "print(my_array4)\n",
    "\n",
    "#4\n",
    "my_array4[my_array4 %2 !=0]=-1\n",
    "print(my_array4)\n",
    "\n",
    "\n"
   ]
  },
  {
   "cell_type": "markdown",
   "metadata": {},
   "source": [
    "`Q-4` Standardize the given array\n",
    "\n",
    "https://en.wikipedia.org/wiki/Standard_score\n",
    "\n",
    "To standardize the array, use the following formula:\n",
    "\n",
    "$$\\large X_{standardized} = \\frac{X - \\mu}{\\sigma}$$\n",
    "\n",
    "where μ is the mean of the array and σ is the standard deviation of the array.\n",
    "\n",
    "Standardization scales data to have a mean of zero and a standard deviation of one. It comes in feature scaling step of data preprocessing, ensuring all features contribute equally in machine learning algorithms.\n",
    "\n"
   ]
  },
  {
   "cell_type": "markdown",
   "metadata": {},
   "source": [
    "**Example:**\n",
    "\n",
    "Input:\n",
    "```bash\n",
    "[[4498 3747 4538 2452 4705 5572  858 1112 5163 8954]]\n",
    "```\n",
    "\n",
    "Output:\n",
    "```bash\n",
    "[[ 0.15, -0.18,  0.17, -0.77,  0.24,  0.63, -1.48, -1.37,  0.45,\n",
    "         2.15]]\n",
    "```"
   ]
  },
  {
   "cell_type": "code",
   "execution_count": 28,
   "metadata": {},
   "outputs": [
    {
     "name": "stdout",
     "output_type": "stream",
     "text": [
      "[[ 1.18  0.42 -1.3 ]\n",
      " [-0.96  0.23 -0.98]\n",
      " [ 1.34  0.54  1.02]\n",
      " [ 1.39  1.02 -1.31]\n",
      " [-0.72  0.05 -1.27]\n",
      " [ 1.54  1.09  0.4 ]\n",
      " [-1.08  0.74  1.  ]\n",
      " [ 0.94 -1.4  -0.09]\n",
      " [ 0.53 -1.02  0.14]\n",
      " [-1.44 -0.71 -1.28]]\n"
     ]
    }
   ],
   "source": [
    "arr = np.random.randint(low=1, high=10000, size=30).reshape(10, 3)\n",
    "# arr = np.random.uniform(low=1, high=10000, size=30).reshape(10, 3)\n",
    "# code here\n",
    "# arr=np.array([[4498,3747,4538, 2452, 4705, 5572,  858, 1112, 5163 ,8954]]) GIVEN INPUT FOR TEST \n",
    "# print(arr)\n",
    "# print(np.mean(arr))\n",
    "Mean_value=np.mean(arr)\n",
    "STD=arr.std()\n",
    "# print(STD)\n",
    "New_array=np.empty_like(arr,dtype=float)\n",
    "for i in range(0,len(arr)):\n",
    "    for j in range(0,len(arr[i])):\n",
    "        New_array[i][j]=(arr[i][j]-Mean_value)/STD\n",
    "        pass\n",
    "\n",
    "print(np.round(New_array,2))\n"
   ]
  },
  {
   "cell_type": "markdown",
   "metadata": {},
   "source": [
    "### `Bonus:` Softmax function\n",
    "\n",
    "Create a Python function to calculate the Softmax of the given numpy 1D array. The function only accepts the numpy 1D array, otherwise raise error.\n",
    "\n",
    "$$\\Large \\sigma(\\vec z)_i = \\frac{e^{z_i}}{\\sum_{j=i}^{K}{e^{z_j}}}$$\n",
    "\n",
    "https://en.wikipedia.org/wiki/Softmax_function\n",
    "\n"
   ]
  },
  {
   "cell_type": "markdown",
   "metadata": {},
   "source": [
    "**Example 1:**\n",
    "\n",
    "Input:\n",
    "```bash\n",
    "[86.03331084 37.7285648  48.64908087 87.16563062 38.40852563 37.20006318]\n",
    "```\n",
    "\n",
    "Output:\n",
    "```bash\n",
    "[2.43733249e-01, 2.56112115e-22, 1.41628284e-17, 7.56266751e-01,\n",
    "       5.05514197e-22, 1.50974911e-22]\n",
    "```\n",
    "\n",
    "**Example 2:**\n",
    "\n",
    "Input:\n",
    "```bash\n",
    "[33.17344305 45.61961654 82.05405781 80.9647098  68.82830233 91.52064278]\n",
    "```\n",
    "\n",
    "Output:\n",
    "```bash\n",
    "[4.57181035e-26, 1.16249923e-20, 7.73872596e-05, 2.60358426e-05,\n",
    "       1.39571531e-10, 9.99896577e-01]\n",
    "```"
   ]
  },
  {
   "cell_type": "code",
   "execution_count": 29,
   "metadata": {},
   "outputs": [],
   "source": [
    "# code here\n"
   ]
  },
  {
   "cell_type": "markdown",
   "metadata": {},
   "source": [
    "### Section 2:   Pandas"
   ]
  },
  {
   "cell_type": "markdown",
   "metadata": {},
   "source": [
    "Download this dataset: https://www.kaggle.com/datasets/shrishtimanja/ecommerce-dataset-for-data-analysis"
   ]
  },
  {
   "cell_type": "markdown",
   "metadata": {},
   "source": [
    "`Q-1` Give summary of the above dataset in your own words. Like how data is arranged in it e.g total no of rows and column and its names and its data types etc etc. Below are 2 sections. 1 section is for the textual answers in your own words (3-5 Lines) and another is for the code through which you find that information."
   ]
  },
  {
   "cell_type": "markdown",
   "metadata": {},
   "source": [
    "Your Answer here: <br>\n",
    "\"\""
   ]
  },
  {
   "cell_type": "code",
   "execution_count": 30,
   "metadata": {},
   "outputs": [
    {
     "name": "stdout",
     "output_type": "stream",
     "text": [
      "<class 'pandas.core.frame.DataFrame'>\n",
      "RangeIndex: 55000 entries, 0 to 54999\n",
      "Data columns (total 13 columns):\n",
      " #   Column                 Non-Null Count  Dtype  \n",
      "---  ------                 --------------  -----  \n",
      " 0   CID                    55000 non-null  int64  \n",
      " 1   TID                    55000 non-null  int64  \n",
      " 2   Gender                 55000 non-null  object \n",
      " 3   Age Group              55000 non-null  object \n",
      " 4   Purchase Date          55000 non-null  object \n",
      " 5   Product Category       55000 non-null  object \n",
      " 6   Discount Availed       55000 non-null  object \n",
      " 7   Discount Name          27415 non-null  object \n",
      " 8   Discount Amount (INR)  55000 non-null  float64\n",
      " 9   Gross Amount           55000 non-null  float64\n",
      " 10  Net Amount             55000 non-null  float64\n",
      " 11  Purchase Method        55000 non-null  object \n",
      " 12  Location               55000 non-null  object \n",
      "dtypes: float64(3), int64(2), object(8)\n",
      "memory usage: 5.5+ MB\n",
      "None\n",
      "                 CID           TID  Discount Amount (INR)  Gross Amount  \\\n",
      "count   55000.000000  5.500000e+04           55000.000000  55000.000000   \n",
      "mean   551245.593891  5.504740e+09             136.986796   3012.936606   \n",
      "std    260603.330337  2.594534e+09             165.375502   1718.431066   \n",
      "min    100009.000000  1.000163e+09               0.000000    136.454325   \n",
      "25%    323717.000000  3.252604e+09               0.000000   1562.111325   \n",
      "50%    550088.500000  5.498383e+09               0.000000   2954.266150   \n",
      "75%    776955.750000  7.747933e+09             274.115000   4342.221675   \n",
      "max    999996.000000  9.999393e+09             500.000000   8394.825600   \n",
      "\n",
      "         Net Amount  \n",
      "count  55000.000000  \n",
      "mean    2875.949810  \n",
      "std     1726.127778  \n",
      "min     -351.119775  \n",
      "25%     1429.551863  \n",
      "50%     2814.910875  \n",
      "75%     4211.407838  \n",
      "max     8394.825600  \n"
     ]
    }
   ],
   "source": [
    "# code here\n",
    "df = pd.read_csv('project1_df.csv')\n",
    "print(df.info())\n",
    "print(df.describe())"
   ]
  },
  {
   "cell_type": "markdown",
   "metadata": {},
   "source": [
    "`Q-2` Check which columns has missing values and handle according to yourself. Dont remove data."
   ]
  },
  {
   "cell_type": "code",
   "execution_count": 31,
   "metadata": {},
   "outputs": [
    {
     "name": "stdout",
     "output_type": "stream",
     "text": [
      "<class 'pandas.core.frame.DataFrame'>\n",
      "RangeIndex: 55000 entries, 0 to 54999\n",
      "Data columns (total 13 columns):\n",
      " #   Column                 Non-Null Count  Dtype  \n",
      "---  ------                 --------------  -----  \n",
      " 0   CID                    55000 non-null  int64  \n",
      " 1   TID                    55000 non-null  int64  \n",
      " 2   Gender                 55000 non-null  object \n",
      " 3   Age Group              55000 non-null  object \n",
      " 4   Purchase Date          55000 non-null  object \n",
      " 5   Product Category       55000 non-null  object \n",
      " 6   Discount Availed       55000 non-null  object \n",
      " 7   Discount Name          27415 non-null  object \n",
      " 8   Discount Amount (INR)  55000 non-null  float64\n",
      " 9   Gross Amount           55000 non-null  float64\n",
      " 10  Net Amount             55000 non-null  float64\n",
      " 11  Purchase Method        55000 non-null  object \n",
      " 12  Location               55000 non-null  object \n",
      "dtypes: float64(3), int64(2), object(8)\n",
      "memory usage: 5.5+ MB\n",
      "None\n",
      "                 CID           TID  Discount Amount (INR)  Gross Amount  \\\n",
      "count   55000.000000  5.500000e+04           55000.000000  55000.000000   \n",
      "mean   551245.593891  5.504740e+09             136.986796   3012.936606   \n",
      "std    260603.330337  2.594534e+09             165.375502   1718.431066   \n",
      "min    100009.000000  1.000163e+09               0.000000    136.454325   \n",
      "25%    323717.000000  3.252604e+09               0.000000   1562.111325   \n",
      "50%    550088.500000  5.498383e+09               0.000000   2954.266150   \n",
      "75%    776955.750000  7.747933e+09             274.115000   4342.221675   \n",
      "max    999996.000000  9.999393e+09             500.000000   8394.825600   \n",
      "\n",
      "         Net Amount  \n",
      "count  55000.000000  \n",
      "mean    2875.949810  \n",
      "std     1726.127778  \n",
      "min     -351.119775  \n",
      "25%     1429.551863  \n",
      "50%     2814.910875  \n",
      "75%     4211.407838  \n",
      "max     8394.825600  \n"
     ]
    }
   ],
   "source": [
    "# code here\n",
    "df = pd.read_csv('project1_df.csv')\n",
    "print(df.info())\n",
    "print(df.describe())"
   ]
  },
  {
   "cell_type": "markdown",
   "metadata": {},
   "source": [
    "`Q-3` Merge the current dataset with a second DataFrame containing Location and their respective Region (North, South, East, West). After merging, perform the following:\n",
    "<ol>\n",
    "<li>Filter the data to include only transactions made by customers aged \"25-45\" who availed a discount greater than ₹100 using a \"Credit Card.\"</li>\n",
    "<li>For each Region and Product Category, calculate the total Net Amount and average Discount Amount (INR).</li>\n",
    "<li>Find the top 2 most frequently purchased Product Categories for each Region.</li>\n",
    "<li>Sort the results by Region alphabetically.</li>\n",
    "</ol>"
   ]
  },
  {
   "cell_type": "code",
   "execution_count": 32,
   "metadata": {},
   "outputs": [
    {
     "name": "stdout",
     "output_type": "stream",
     "text": [
      "   Region   Product Category  Count\n",
      "0    East  Beauty and Health      1\n",
      "1    East              Books      1\n",
      "9   North  Beauty and Health      1\n",
      "10  North              Books      1\n",
      "18  South  Beauty and Health      1\n",
      "19  South              Books      1\n",
      "27   West  Beauty and Health      1\n",
      "28   West              Books      1\n",
      "\n",
      "    Region   Product Category  Count\n",
      "0    East  Beauty and Health      1\n",
      "1    East              Books      1\n",
      "9   North  Beauty and Health      1\n",
      "10  North              Books      1\n",
      "18  South  Beauty and Health      1\n",
      "19  South              Books      1\n",
      "27   West  Beauty and Health      1\n",
      "28   West              Books      1\n"
     ]
    }
   ],
   "source": [
    "region_data = {\n",
    "    'Location': ['Ahmedabad', 'Bangalore', 'Delhi', 'Mumbai', 'Chennai', 'Pune', 'Hyderabad', 'Kolkata', 'Jaipur', 'Lucknow'],\n",
    "    'Region': ['West', 'South', 'North', 'West', 'South', 'West', 'South', 'East', 'North', 'North']\n",
    "}\n",
    "\n",
    "second_df = pd.DataFrame(region_data)\n",
    "# code here\n",
    "merged_data = df.merge(second_df)\n",
    "\n",
    "filtered_data = merged_data.filter((df['Age Group'] == '25-45') &\n",
    "                                   (df['Discount Amount (INR)'] > 100) &\n",
    "                                   (df['Purchase Method'] == 'Credit Card'))\n",
    "\n",
    "grouped_df = merged_data.groupby(['Region', 'Product Category']).agg({\n",
    "    'Net Amount': 'sum',\n",
    "    'Discount Amount (INR)': 'mean'\n",
    "}).reset_index()\n",
    "\n",
    "top_categories = grouped_df.groupby(\n",
    "    ['Region', 'Product Category']).size().reset_index(name='Count')\n",
    "top_categories = top_categories.sort_values(\n",
    "    ['Region', 'Count'], ascending=[True, False])\n",
    "top_2_categories = top_categories.groupby('Region').head(2)\n",
    "\n",
    "print(top_2_categories)\n",
    "\n",
    "sorted_results = top_2_categories.sort_values('Region')\n",
    "\n",
    "print('\\n',sorted_results) "
   ]
  },
  {
   "cell_type": "markdown",
   "metadata": {},
   "source": [
    "`Q-4` Use pd.cut to categorize the transactions into the following purchase year bins: <br>\n",
    "<ul>\n",
    "<li>2018 and earlier <strong>( Will have 0 Values )</strong></li>\n",
    "<li>2019-2020 <strong>( 14181 Values )</strong></li>\n",
    "<li>2021-2022<strong>( 21938 Values )</strong></li>\n",
    "<li>2023-2024<strong>( 18881 Values )</strong></li>\n",
    "</ul>\n",
    "Visualize the frequency of transactions in each bin using a bar plot. For Now use pandas built in plotting method ( .plot( kind=\"bar\" ) ). \n",
    "\n",
    "Hint: Take year from \"Purchase Date\"."
   ]
  },
  {
   "cell_type": "code",
   "execution_count": 33,
   "metadata": {},
   "outputs": [
    {
     "data": {
      "text/plain": [
       "<Axes: xlabel='Year Bin'>"
      ]
     },
     "execution_count": 33,
     "metadata": {},
     "output_type": "execute_result"
    },
    {
     "data": {
      "image/png": "[encoded data removed]",
      "text/plain": [
       "<Figure size 640x480 with 1 Axes>"
      ]
     },
     "metadata": {},
     "output_type": "display_data"
    }
   ],
   "source": [
    "# code here\n",
    "df['Purchase Year'] = pd.to_datetime(df['Purchase Date'], dayfirst=True).dt.year\n",
    "bins = [0, 2018, 2020, 2022, 2024]\n",
    "labels = ['2018 and earlier', '2019-2020', '2021-2022', '2023-2024']\n",
    "df['Year Bin'] = pd.cut(df['Purchase Year'], bins=bins, labels=labels)\n",
    "\n",
    "year_bin_counts = df['Year Bin'].value_counts().sort_index()\n",
    "year_bin_counts.plot(kind='bar')\n"
   ]
  },
  {
   "cell_type": "markdown",
   "metadata": {},
   "source": [
    "`Q-5` Create a pivot table showing the mean Net Amount for each Gender and Product Category, including only transactions where the Net Amount is greater than ₹2000 and a discount was availed.\n",
    "\n",
    "Next, use the melt function to reshape the pivot table into a long format, with each row representing a combination of Gender, Product Category, and the corresponding mean Net Amount."
   ]
  },
  {
   "cell_type": "code",
   "execution_count": 34,
   "metadata": {},
   "outputs": [
    {
     "name": "stdout",
     "output_type": "stream",
     "text": [
      "    Gender   Product Category  Mean Net Amount\n",
      "0   Female  Beauty and Health      3885.970249\n",
      "1     Male  Beauty and Health      3796.338034\n",
      "2    Other  Beauty and Health      3891.990669\n",
      "3   Female              Books      3666.147928\n",
      "4     Male              Books      3754.903563\n",
      "5    Other              Books      3882.168697\n",
      "6   Female           Clothing      3873.334963\n",
      "7     Male           Clothing      3797.469566\n",
      "8    Other           Clothing      3879.625094\n",
      "9   Female        Electronics      3834.079458\n",
      "10    Male        Electronics      3804.437066\n",
      "11   Other        Electronics      3807.429325\n",
      "12  Female     Home & Kitchen      3857.663210\n",
      "13    Male     Home & Kitchen      3781.323020\n",
      "14   Other     Home & Kitchen      3917.084794\n",
      "15  Female              Other      3792.389116\n",
      "16    Male              Other      3815.366191\n",
      "17   Other              Other      3809.587620\n",
      "18  Female           Pet Care      3750.620827\n",
      "19    Male           Pet Care      3676.936318\n",
      "20   Other           Pet Care      3841.149766\n",
      "21  Female   Sports & Fitness      3718.415498\n",
      "22    Male   Sports & Fitness      3960.741008\n",
      "23   Other   Sports & Fitness      3784.418400\n",
      "24  Female       Toys & Games      3914.747316\n",
      "25    Male       Toys & Games      3702.066553\n",
      "26   Other       Toys & Games      3923.656345\n"
     ]
    }
   ],
   "source": [
    "# code here\n",
    "pivot_table = df[(df['Net Amount'] > 2000) & (df['Discount Availed'] == 'Yes')].pivot_table(\n",
    "    values='Net Amount',\n",
    "    index='Gender',\n",
    "    columns='Product Category',\n",
    "    aggfunc='mean'\n",
    ")\n",
    "\n",
    "melted_table = pivot_table.reset_index().melt(id_vars='Gender', value_name='Mean Net Amount')\n",
    "print(melted_table)"
   ]
  },
  {
   "cell_type": "markdown",
   "metadata": {},
   "source": [
    "`Bonus` Group the transactions by Gender and Age Group, then calculate min, max and average Gross Amount for each group. <strong>1 Line Code Only</strong>"
   ]
  },
  {
   "cell_type": "code",
   "execution_count": 35,
   "metadata": {},
   "outputs": [
    {
     "data": {
      "text/html": [
       "<div>\n",
       "<style scoped>\n",
       "    .dataframe tbody tr th:only-of-type {\n",
       "        vertical-align: middle;\n",
       "    }\n",
       "\n",
       "    .dataframe tbody tr th {\n",
       "        vertical-align: top;\n",
       "    }\n",
       "\n",
       "    .dataframe thead th {\n",
       "        text-align: right;\n",
       "    }\n",
       "</style>\n",
       "<table border=\"1\" class=\"dataframe\">\n",
       "  <thead>\n",
       "    <tr style=\"text-align: right;\">\n",
       "      <th></th>\n",
       "      <th></th>\n",
       "      <th>min</th>\n",
       "      <th>max</th>\n",
       "      <th>mean</th>\n",
       "    </tr>\n",
       "    <tr>\n",
       "      <th>Gender</th>\n",
       "      <th>Age Group</th>\n",
       "      <th></th>\n",
       "      <th></th>\n",
       "      <th></th>\n",
       "    </tr>\n",
       "  </thead>\n",
       "  <tbody>\n",
       "    <tr>\n",
       "      <th rowspan=\"5\" valign=\"top\">Female</th>\n",
       "      <th>18-25</th>\n",
       "      <td>142.077075</td>\n",
       "      <td>8382.7968</td>\n",
       "      <td>2974.852413</td>\n",
       "    </tr>\n",
       "    <tr>\n",
       "      <th>25-45</th>\n",
       "      <td>136.454325</td>\n",
       "      <td>8365.1904</td>\n",
       "      <td>3016.776553</td>\n",
       "    </tr>\n",
       "    <tr>\n",
       "      <th>45-60</th>\n",
       "      <td>152.597525</td>\n",
       "      <td>8125.9752</td>\n",
       "      <td>2960.728962</td>\n",
       "    </tr>\n",
       "    <tr>\n",
       "      <th>60 and above</th>\n",
       "      <td>152.220600</td>\n",
       "      <td>7611.5520</td>\n",
       "      <td>3027.458736</td>\n",
       "    </tr>\n",
       "    <tr>\n",
       "      <th>under 18</th>\n",
       "      <td>138.890850</td>\n",
       "      <td>8334.0096</td>\n",
       "      <td>3011.337683</td>\n",
       "    </tr>\n",
       "    <tr>\n",
       "      <th rowspan=\"5\" valign=\"top\">Male</th>\n",
       "      <th>18-25</th>\n",
       "      <td>160.629000</td>\n",
       "      <td>8361.2256</td>\n",
       "      <td>2976.062331</td>\n",
       "    </tr>\n",
       "    <tr>\n",
       "      <th>25-45</th>\n",
       "      <td>147.963750</td>\n",
       "      <td>8194.6704</td>\n",
       "      <td>3026.682638</td>\n",
       "    </tr>\n",
       "    <tr>\n",
       "      <th>45-60</th>\n",
       "      <td>158.560275</td>\n",
       "      <td>8238.5352</td>\n",
       "      <td>2983.697755</td>\n",
       "    </tr>\n",
       "    <tr>\n",
       "      <th>60 and above</th>\n",
       "      <td>148.818600</td>\n",
       "      <td>7794.3642</td>\n",
       "      <td>3022.060360</td>\n",
       "    </tr>\n",
       "    <tr>\n",
       "      <th>under 18</th>\n",
       "      <td>154.377000</td>\n",
       "      <td>7792.6898</td>\n",
       "      <td>3070.265355</td>\n",
       "    </tr>\n",
       "    <tr>\n",
       "      <th rowspan=\"5\" valign=\"top\">Other</th>\n",
       "      <th>18-25</th>\n",
       "      <td>149.149350</td>\n",
       "      <td>8394.8256</td>\n",
       "      <td>3002.860432</td>\n",
       "    </tr>\n",
       "    <tr>\n",
       "      <th>25-45</th>\n",
       "      <td>152.747100</td>\n",
       "      <td>8193.4944</td>\n",
       "      <td>3079.670704</td>\n",
       "    </tr>\n",
       "    <tr>\n",
       "      <th>45-60</th>\n",
       "      <td>143.130225</td>\n",
       "      <td>8030.0038</td>\n",
       "      <td>3032.886767</td>\n",
       "    </tr>\n",
       "    <tr>\n",
       "      <th>60 and above</th>\n",
       "      <td>169.994000</td>\n",
       "      <td>8070.0984</td>\n",
       "      <td>3028.316805</td>\n",
       "    </tr>\n",
       "    <tr>\n",
       "      <th>under 18</th>\n",
       "      <td>164.314500</td>\n",
       "      <td>8309.7672</td>\n",
       "      <td>3001.247510</td>\n",
       "    </tr>\n",
       "  </tbody>\n",
       "</table>\n",
       "</div>"
      ],
      "text/plain": [
       "                            min        max         mean\n",
       "Gender Age Group                                       \n",
       "Female 18-25         142.077075  8382.7968  2974.852413\n",
       "       25-45         136.454325  8365.1904  3016.776553\n",
       "       45-60         152.597525  8125.9752  2960.728962\n",
       "       60 and above  152.220600  7611.5520  3027.458736\n",
       "       under 18      138.890850  8334.0096  3011.337683\n",
       "Male   18-25         160.629000  8361.2256  2976.062331\n",
       "       25-45         147.963750  8194.6704  3026.682638\n",
       "       45-60         158.560275  8238.5352  2983.697755\n",
       "       60 and above  148.818600  7794.3642  3022.060360\n",
       "       under 18      154.377000  7792.6898  3070.265355\n",
       "Other  18-25         149.149350  8394.8256  3002.860432\n",
       "       25-45         152.747100  8193.4944  3079.670704\n",
       "       45-60         143.130225  8030.0038  3032.886767\n",
       "       60 and above  169.994000  8070.0984  3028.316805\n",
       "       under 18      164.314500  8309.7672  3001.247510"
      ]
     },
     "execution_count": 35,
     "metadata": {},
     "output_type": "execute_result"
    }
   ],
   "source": [
    "# code here\n",
    "df.groupby(['Gender', 'Age Group'])['Gross Amount'].agg(['min', 'max', 'mean'])"
   ]
  }
 ],
 "metadata": {
  "kernelspec": {
   "display_name": ".venv",
   "language": "python",
   "name": "python3"
  },
  "language_info": {
   "codemirror_mode": {
    "name": "ipython",
    "version": 3
   },
   "file_extension": ".py",
   "mimetype": "text/x-python",
   "name": "python",
   "nbconvert_exporter": "python",
   "pygments_lexer": "ipython3",
   "version": "3.13.0"
  }
 },
 "nbformat": 4,
 "nbformat_minor": 2
}
