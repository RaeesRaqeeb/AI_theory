{
 "cells": [
  {
   "cell_type": "code",
   "execution_count": null,
   "metadata": {},
   "outputs": [],
   "source": [
    "import re\n",
    "\n",
    "Input_Text=\"\"\"Hello team! As discussed, please reach out to p102938@pwr.nu.edu.pk or\n",
    "p837463@pwr.nu.edu.pk for any updates on the student section. For faculty matters, contact\n",
    "umer.haroon@nu.edu.pk and saad@nu.edu.pk. Avoid using i472819@isb.nu.edu.pk or\n",
    "l229012@lhr.nu.edu.pk, as they belong to other campuses. Additional details can be found in D\n",
    "the report, but note that external contacts like unknown@yahoo.com and user@gmail.com are\n",
    "not required. Feel free to loop in academics.pwr@nu.edu.pk for advanced queries.\"\"\"\n",
    "\n",
    "\n",
    "\n"
   ]
  },
  {
   "cell_type": "code",
   "execution_count": null,
   "metadata": {},
   "outputs": [
    {
     "name": "stdout",
     "output_type": "stream",
     "text": [
      "All Student email in the text are: \n",
      "\t p1029@pwr.nu.edu.pk\n",
      "\t p8374@pwr.nu.edu.pk\n",
      "\n",
      "All faculty emails in the text are: \n",
      "\t umer.haroon@nu.edu.pk\n",
      "\t saad@nu.edu.pk\n",
      "\t academics.pwr@nu.edu.pk\n"
     ]
    }
   ],
   "source": [
    "#Question 1\n",
    "\n",
    "print(\"All Student email in the text are: \")\n",
    "student=re.findall(r\"p\\d{4}\",Input_Text)\n",
    "for i in student:\n",
    "    print('\\t',i+\"@pwr.nu.edu.pk\")\n",
    "    \n",
    "# Faculty\n",
    "# Faculty=re.findall(r\"[a-z]*@nu.edu.pk\\b\",Input_Text)\n",
    "Faculty = re.findall(r\"[a-zA-Z0-9._%+-]+@nu\\.edu\\.pk\\b\", Input_Text)\n",
    "print(\"\\nAll faculty emails in the text are: \")\n",
    "for i in Faculty:\n",
    "    print('\\t',i)"
   ]
  },
  {
   "cell_type": "code",
   "execution_count": null,
   "metadata": {},
   "outputs": [
    {
     "name": "stdout",
     "output_type": "stream",
     "text": [
      "Valid Passwords are:\n",
      "\t Fast@1234\n",
      "\t Password#2023\n",
      "\t AI$works2021\n",
      "\n",
      "Invalid Passwords are:\n",
      "\t fast123\n",
      "\t Fast12345\n",
      "\t No Space@123\n",
      "\t @Short7\n"
     ]
    }
   ],
   "source": [
    "#QUESTION 2\n",
    "\n",
    "Samples= [\"Fast@1234\", \"Password#2023\",\"AI$works2021\",\"fast123\", \"Fast12345\", \"No Space@123\", \"@Short7\"]\n",
    "\n",
    "\n",
    "# valid_passwords=re.findall(r\"[A-Za-z0-9[@#$%&]]{8,}\",str(Samples))\n",
    "# valid_passwords=re.findall(r\"[A-Za-z0-9@|#|$|%|&]{8,}\",str(Samples))\n",
    "#Positive lookahead Assertion concept is used here\n",
    "pattern = r\"(?=.*[A-Z])(?=.*[a-z])(?=.*\\d)(?=.*[@#$%&])[A-Za-z\\d@#$%&]{8,}\"\n",
    "\n",
    "# Filter valid passwords\n",
    "valid_passwords = [password for password in Samples if re.match(pattern, password) and ' ' not in password]\n",
    "invalid_passwords=[password for password in Samples if not re.match(pattern, password) or ' ' in password]\n",
    "print(\"Valid Passwords are:\")\n",
    "for password in valid_passwords:\n",
    "    print(\"\\t\", password)\n",
    "\n",
    "print(\"\\nInvalid Passwords are:\")\n",
    "for password in invalid_passwords:\n",
    "    print(\"\\t\", password)"
   ]
  }
 ],
 "metadata": {
  "kernelspec": {
   "display_name": ".venv",
   "language": "python",
   "name": "python3"
  },
  "language_info": {
   "codemirror_mode": {
    "name": "ipython",
    "version": 3
   },
   "file_extension": ".py",
   "mimetype": "text/x-python",
   "name": "python",
   "nbconvert_exporter": "python",
   "pygments_lexer": "ipython3",
   "version": "3.13.0"
  }
 },
 "nbformat": 4,
 "nbformat_minor": 2
}
