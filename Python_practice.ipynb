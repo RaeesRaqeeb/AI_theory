{
 "cells": [
  {
   "cell_type": "code",
   "execution_count": 1,
   "metadata": {},
   "outputs": [
    {
     "name": "stdout",
     "output_type": "stream",
     "text": [
      "[[0, 1, 2, 3, 4], [0, 1, 2, 3, 4], [0, 1, 2, 3, 4]]\n"
     ]
    }
   ],
   "source": [
    "matrix = [] \n",
    "\n",
    "for i in range(3): \n",
    "\n",
    "\t# Append an empty sublist inside the list \n",
    "\tmatrix.append([]) \n",
    "\n",
    "\tfor j in range(5): \n",
    "\t\tmatrix[i].append(j) \n",
    "\n",
    "print(matrix) \n"
   ]
  },
  {
   "cell_type": "code",
   "execution_count": 3,
   "metadata": {},
   "outputs": [
    {
     "name": "stdout",
     "output_type": "stream",
     "text": [
      "Before Transportation: [[1, 2, 3], [4, 5, 6], [7, 8, 9]]\n",
      "Transported_matrix: [[1, 4, 7], [2, 5, 8], [3, 6, 9]]\n",
      "Flatten_Matrix: [1, 2, 3, 4, 5, 6, 7, 8, 9]\n",
      "[3, 6, 9]\n"
     ]
    }
   ],
   "source": [
    "matrix = [\n",
    "    [1, 2, 3],\n",
    "    [4, 5, 6],\n",
    "    [7, 8, 9]\n",
    "]\n",
    "\n",
    "print(\"Before Transportation:\",matrix)\n",
    "Transported_matrix = [[ matrix[j][i] for j in range(3)] for i in range(3)]\n",
    "print(\"Transported_matrix:\",Transported_matrix)\n",
    "\n",
    "Flatten_matrix=[ matrix[j][i] for j in range(3) for i in range(3)]\n",
    "print(\"Flatten_Matrix:\",Flatten_matrix)\n",
    "\n",
    "#Bari_value_List_row=[  matrix[j][i]   for j in range(3)  for i in range(3) for k in range(3) if(matrix[j][i]> matrix[j][k]) ]\n",
    "\n",
    "matrix = [\n",
    "    [1, 2, 3],\n",
    "    [4, 5, 6],\n",
    "    [7, 8, 9]\n",
    "]\n",
    "max_list_row=[]\n",
    "max_list_row = [max(row) for row in matrix]\n",
    "print(max_list_row)"
   ]
  },
  {
   "cell_type": "code",
   "execution_count": null,
   "metadata": {},
   "outputs": [],
   "source": []
  },
  {
   "cell_type": "code",
   "execution_count": null,
   "metadata": {},
   "outputs": [],
   "source": []
  }
 ],
 "metadata": {
  "kernelspec": {
   "display_name": "Python 3",
   "language": "python",
   "name": "python3"
  },
  "language_info": {
   "codemirror_mode": {
    "name": "ipython",
    "version": 3
   },
   "file_extension": ".py",
   "mimetype": "text/x-python",
   "name": "python",
   "nbconvert_exporter": "python",
   "pygments_lexer": "ipython3",
   "version": "3.12.5"
  }
 },
 "nbformat": 4,
 "nbformat_minor": 2
}
