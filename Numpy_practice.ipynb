{
 "cells": [
  {
   "cell_type": "code",
   "execution_count": 2,
   "metadata": {},
   "outputs": [],
   "source": [
    "import numpy as np\n"
   ]
  },
  {
   "cell_type": "code",
   "execution_count": 3,
   "metadata": {},
   "outputs": [
    {
     "name": "stdout",
     "output_type": "stream",
     "text": [
      "[[1 2 3 4]\n",
      " [6 7 8 9]]\n"
     ]
    }
   ],
   "source": [
    "My_array=np.array([[1,2,3,4],[6,7,8,9]])\n",
    "print(My_array)"
   ]
  },
  {
   "cell_type": "code",
   "execution_count": 4,
   "metadata": {},
   "outputs": [
    {
     "name": "stdout",
     "output_type": "stream",
     "text": [
      "(2, 4)\n"
     ]
    }
   ],
   "source": [
    "print(My_array.shape)"
   ]
  },
  {
   "cell_type": "code",
   "execution_count": 8,
   "metadata": {},
   "outputs": [
    {
     "name": "stdout",
     "output_type": "stream",
     "text": [
      "[0. 0.]\n"
     ]
    }
   ],
   "source": [
    "My_array=np.zeros(2)\n",
    "print(My_array)"
   ]
  },
  {
   "cell_type": "code",
   "execution_count": 5,
   "metadata": {},
   "outputs": [
    {
     "name": "stdout",
     "output_type": "stream",
     "text": [
      "[1. 1. 1. 1. 1. 1. 1. 1. 1. 1. 1. 1. 1. 1. 1. 1. 1. 1. 1. 1. 1. 1. 1. 1.\n",
      " 1. 1. 1. 1. 1. 1. 1. 1. 1. 1. 1. 1. 1. 1. 1. 1. 1. 1. 1. 1. 1. 1. 1. 1.\n",
      " 1. 1.]\n"
     ]
    }
   ],
   "source": [
    "My_array=np.ones(50)\n",
    "print(My_array)"
   ]
  },
  {
   "cell_type": "code",
   "execution_count": 6,
   "metadata": {},
   "outputs": [
    {
     "name": "stdout",
     "output_type": "stream",
     "text": [
      "[6.90651007e-310 1.91710119e-316 6.90647962e-310]\n"
     ]
    }
   ],
   "source": [
    "My_array=np.empty(3)\n",
    "print(My_array)"
   ]
  },
  {
   "cell_type": "code",
   "execution_count": 7,
   "metadata": {},
   "outputs": [
    {
     "name": "stdout",
     "output_type": "stream",
     "text": [
      "[0 1 2 3 4 5 6 7 8 9]\n"
     ]
    }
   ],
   "source": [
    "range23=np.arange(0,10)\n",
    "print(range23)"
   ]
  },
  {
   "cell_type": "code",
   "execution_count": 9,
   "metadata": {},
   "outputs": [
    {
     "name": "stdout",
     "output_type": "stream",
     "text": [
      "[2.  3.5 5. ]\n"
     ]
    }
   ],
   "source": [
    "value=np.linspace(2,5,3)\n",
    "print(value)"
   ]
  },
  {
   "cell_type": "code",
   "execution_count": 9,
   "metadata": {},
   "outputs": [
    {
     "name": "stdout",
     "output_type": "stream",
     "text": [
      "[[[2 2]\n",
      "  [4 2]\n",
      "  [5 4]]\n",
      "\n",
      " [[4 3]\n",
      "  [4 4]\n",
      "  [3 5]]]\n"
     ]
    }
   ],
   "source": [
    "#random integers in 2d array\n",
    "value=np.random.randint(2,6,(2,3,2))\n",
    "print(value)"
   ]
  },
  {
   "cell_type": "code",
   "execution_count": 10,
   "metadata": {},
   "outputs": [
    {
     "name": "stdout",
     "output_type": "stream",
     "text": [
      "[[[ 4  4]\n",
      "  [ 8  4]\n",
      "  [10  8]]\n",
      "\n",
      " [[ 8  6]\n",
      "  [ 8  8]\n",
      "  [ 6 10]]]\n"
     ]
    }
   ],
   "source": [
    "print(value*2)\n"
   ]
  },
  {
   "cell_type": "code",
   "execution_count": 11,
   "metadata": {},
   "outputs": [
    {
     "name": "stdout",
     "output_type": "stream",
     "text": [
      "[[[ 4  4]\n",
      "  [ 8  4]\n",
      "  [10  8]]\n",
      "\n",
      " [[ 8  6]\n",
      "  [ 8  8]\n",
      "  [ 6 10]]]\n"
     ]
    }
   ],
   "source": [
    "print(value+value)"
   ]
  },
  {
   "cell_type": "code",
   "execution_count": 12,
   "metadata": {},
   "outputs": [
    {
     "name": "stdout",
     "output_type": "stream",
     "text": [
      "[ 2  5  8 11 14 17]\n"
     ]
    },
    {
     "ename": "AttributeError",
     "evalue": "module 'numpy' has no attribute 'once'",
     "output_type": "error",
     "traceback": [
      "\u001b[0;31m---------------------------------------------------------------------------\u001b[0m",
      "\u001b[0;31mAttributeError\u001b[0m                            Traceback (most recent call last)",
      "Cell \u001b[0;32mIn[12], line 3\u001b[0m\n\u001b[1;32m      1\u001b[0m cutu\u001b[38;5;241m=\u001b[39m np\u001b[38;5;241m.\u001b[39marange(\u001b[38;5;241m2\u001b[39m,\u001b[38;5;241m20\u001b[39m,\u001b[38;5;241m3\u001b[39m)\n\u001b[1;32m      2\u001b[0m \u001b[38;5;28mprint\u001b[39m(cutu)\n\u001b[0;32m----> 3\u001b[0m cutu\u001b[38;5;241m=\u001b[39m\u001b[43mnp\u001b[49m\u001b[38;5;241;43m.\u001b[39;49m\u001b[43monce\u001b[49m(\u001b[38;5;241m10\u001b[39m)\n\u001b[1;32m      4\u001b[0m \u001b[38;5;28mprint\u001b[39m(cutu)\n",
      "File \u001b[0;32m~/.local/lib/python3.8/site-packages/numpy/__init__.py:320\u001b[0m, in \u001b[0;36m__getattr__\u001b[0;34m(attr)\u001b[0m\n\u001b[1;32m    317\u001b[0m     \u001b[38;5;28;01mfrom\u001b[39;00m \u001b[38;5;21;01m.\u001b[39;00m\u001b[38;5;21;01mtesting\u001b[39;00m \u001b[38;5;28;01mimport\u001b[39;00m Tester\n\u001b[1;32m    318\u001b[0m     \u001b[38;5;28;01mreturn\u001b[39;00m Tester\n\u001b[0;32m--> 320\u001b[0m \u001b[38;5;28;01mraise\u001b[39;00m \u001b[38;5;167;01mAttributeError\u001b[39;00m(\u001b[38;5;124m\"\u001b[39m\u001b[38;5;124mmodule \u001b[39m\u001b[38;5;132;01m{!r}\u001b[39;00m\u001b[38;5;124m has no attribute \u001b[39m\u001b[38;5;124m\"\u001b[39m\n\u001b[1;32m    321\u001b[0m                      \u001b[38;5;124m\"\u001b[39m\u001b[38;5;132;01m{!r}\u001b[39;00m\u001b[38;5;124m\"\u001b[39m\u001b[38;5;241m.\u001b[39mformat(\u001b[38;5;18m__name__\u001b[39m, attr))\n",
      "\u001b[0;31mAttributeError\u001b[0m: module 'numpy' has no attribute 'once'"
     ]
    }
   ],
   "source": [
    "cutu= np.arange(2,20,3)\n",
    "print(cutu)\n",
    "cutu=np.once(10)\n",
    "print(cutu)"
   ]
  },
  {
   "cell_type": "code",
   "execution_count": null,
   "metadata": {},
   "outputs": [
    {
     "name": "stdout",
     "output_type": "stream",
     "text": [
      "[2.   2.75 3.5  4.25 5.  ]\n"
     ]
    }
   ],
   "source": [
    "motu= np.linspace(2,5,5)\n",
    "#Calculating step size = (5 - 2) / (4 - 1) = 4 / 3 = 1.33333333\n",
    "#next value=previous + step_size\n",
    "print(motu)\n",
    "\n",
    "import numpy as np\n",
    "\n",
    "motu = np.linspace(2, 5, 5)\n",
    "# start = 2\n",
    "# stop = 5\n",
    "# num = 5 (number of samples)\n",
    "# step size = (stop - start) / (num - 1)\n",
    "# step size = (5 - 2) / (5 - 1)\n",
    "# step size = 3 / 4\n",
    "# step size = 0.75"
   ]
  },
  {
   "cell_type": "code",
   "execution_count": 119,
   "metadata": {},
   "outputs": [
    {
     "name": "stdout",
     "output_type": "stream",
     "text": [
      "[[0.26602055 0.9497268  0.88472069]\n",
      " [0.75538161 0.95749555 0.06175533]]\n"
     ]
    }
   ],
   "source": [
    "#np. always create an array\n",
    "fruitu= np.random.rand(2,3)\n",
    "#It generate 2d array of 2 rows and 3 columns\n",
    "print(fruitu)"
   ]
  },
  {
   "cell_type": "code",
   "execution_count": 120,
   "metadata": {},
   "outputs": [
    {
     "name": "stdout",
     "output_type": "stream",
     "text": [
      "[[2.66020554 9.49726796 8.84720689]\n",
      " [7.55381606 9.57495545 0.61755329]]\n"
     ]
    }
   ],
   "source": [
    "print(fruitu*10)"
   ]
  },
  {
   "cell_type": "code",
   "execution_count": 121,
   "metadata": {},
   "outputs": [
    {
     "name": "stdout",
     "output_type": "stream",
     "text": [
      "[[0.53204111 1.89945359 1.76944138]\n",
      " [1.51076321 1.91499109 0.12351066]]\n",
      "[[ 2  4  6]\n",
      " [ 8 10 12]]\n"
     ]
    }
   ],
   "source": [
    "print(fruitu+fruitu)\n",
    "array=np.array([[1,2,3],[4,5,6]])\n",
    "print(array+array)\n"
   ]
  },
  {
   "cell_type": "code",
   "execution_count": 122,
   "metadata": {},
   "outputs": [
    {
     "name": "stdout",
     "output_type": "stream",
     "text": [
      "[[ 2  4  6]\n",
      " [ 8 10 12]]\n",
      "[[ 2  4  6]\n",
      " [ 8 10 12]]\n"
     ]
    }
   ],
   "source": [
    "print(array*2)\n",
    "print(np.add(array,array))"
   ]
  },
  {
   "cell_type": "code",
   "execution_count": 123,
   "metadata": {},
   "outputs": [
    {
     "name": "stdout",
     "output_type": "stream",
     "text": [
      "[[ 7  8  9]\n",
      " [10 11 12]]\n"
     ]
    }
   ],
   "source": [
    "print(array+6)"
   ]
  },
  {
   "cell_type": "code",
   "execution_count": 124,
   "metadata": {},
   "outputs": [
    {
     "name": "stdout",
     "output_type": "stream",
     "text": [
      "[[1. 2. 3.]\n",
      " [4. 5. 6.]]\n"
     ]
    }
   ],
   "source": [
    "print(np.sqrt(array**2))"
   ]
  },
  {
   "cell_type": "code",
   "execution_count": 125,
   "metadata": {},
   "outputs": [
    {
     "name": "stdout",
     "output_type": "stream",
     "text": [
      "1.0\n",
      "0\n",
      "1.633123935319537e+16\n"
     ]
    }
   ],
   "source": [
    "#In numpy we provide the degree in radian not in degree\n",
    "degree=90\n",
    "radian2=(np.deg2rad(degree))\n",
    "\n",
    "print(np.sin(radian2))\n",
    "print(int(np.cos(radian2)))\n",
    "print(np.tan(radian2))\n"
   ]
  },
  {
   "cell_type": "code",
   "execution_count": 126,
   "metadata": {},
   "outputs": [
    {
     "name": "stdout",
     "output_type": "stream",
     "text": [
      "1.0\n",
      "6.123233995736766e-17\n",
      "1.633123935319537e+16\n"
     ]
    }
   ],
   "source": [
    "degree = 90\n",
    "radian2 = np.radians(degree)\n",
    "print(np.sin(radian2))\n",
    "print(np.cos(radian2))\n",
    "print(np.tan(radian2))"
   ]
  },
  {
   "cell_type": "code",
   "execution_count": 127,
   "metadata": {},
   "outputs": [
    {
     "name": "stdout",
     "output_type": "stream",
     "text": [
      "[[['asd' 'asdf' 'asd']\n",
      "  ['1' '2' '3']\n",
      "  ['4' '5' '6']]\n",
      "\n",
      " [['5' '4' '3']\n",
      "  ['123' '4' '5']\n",
      "  ['1' '2' '3']]]\n",
      "(2, 3, 3)\n",
      "<U21\n"
     ]
    }
   ],
   "source": [
    "#1D array\n",
    "array1=np.array([[['asd',\"asdf\",\"asd\"],[1,2,3],[4,5,6]],\n",
    "                 [[5,4,3],[123,4,5],[1,2,3]]\n",
    "                 ])\n",
    "print(array1)\n",
    "print(array1.shape)#Number of element in each dimention\n",
    "print(array1.dtype)"
   ]
  },
  {
   "cell_type": "code",
   "execution_count": 18,
   "metadata": {},
   "outputs": [
    {
     "name": "stdout",
     "output_type": "stream",
     "text": [
      "['asd' 'asdzxcasdfhasjkfaslkfj' 'aszxc' 'qwe']\n",
      "(4,)\n",
      "<U22\n"
     ]
    }
   ],
   "source": [
    "array1=np.array(['asd',\"asdzxcasdfhasjkfaslkfj\",\"aszxc\",'qwe'])\n",
    "print(array1)\n",
    "print(array1.shape)#Number of element in each dimention\n",
    "print(array1.dtype)"
   ]
  },
  {
   "cell_type": "code",
   "execution_count": 19,
   "metadata": {},
   "outputs": [
    {
     "name": "stdout",
     "output_type": "stream",
     "text": [
      "[[1.2 2.3 3.4]\n",
      " [2.3 5.5 6.2]]\n",
      "(2, 3)\n",
      "float64\n"
     ]
    }
   ],
   "source": [
    "array2d=np.array([[1.2,2.3,3.4],[2.3,5.5,6.2]])\n",
    "print(array2d)\n",
    "\n",
    "#In 2D array shape tells us the row and column of matrix\n",
    "print(array2d.shape) \n",
    "print(array2d.dtype)"
   ]
  },
  {
   "cell_type": "code",
   "execution_count": 20,
   "metadata": {},
   "outputs": [
    {
     "name": "stdout",
     "output_type": "stream",
     "text": [
      "[[[ 1.5  2.2  3.5]\n",
      "  [ 4.5  5.2  6.5]]\n",
      "\n",
      " [[ 7.5  8.2  9.5]\n",
      "  [10.  11.  12. ]]]\n"
     ]
    }
   ],
   "source": [
    "array3d=np.array([\n",
    "    [[1.5,2.2,3.5], [4.5,5.2,6.5]],\n",
    "    [[7.5,8.2,9.5],  [10,11,12]]\n",
    "])\n",
    "print(array3d)\n"
   ]
  },
  {
   "cell_type": "code",
   "execution_count": 21,
   "metadata": {},
   "outputs": [
    {
     "name": "stdout",
     "output_type": "stream",
     "text": [
      "[1.  2.3 4.2]\n",
      "(3,)\n",
      "(2, 3)\n",
      "(2, 2, 3)\n",
      "float64\n",
      "float64\n",
      "float64\n"
     ]
    }
   ],
   "source": [
    "\n",
    "array_float=np.array([1.0,2.3,4.2])\n",
    "print(array_float)\n",
    "print(array_float.shape)\n",
    "print(array2d.shape)\n",
    "print(array3d.shape)\n",
    "print(array_float.dtype)\n",
    "\n",
    "print(array2d.dtype)\n",
    "print(array3d.dtype)"
   ]
  },
  {
   "cell_type": "code",
   "execution_count": 22,
   "metadata": {},
   "outputs": [
    {
     "name": "stdout",
     "output_type": "stream",
     "text": [
      "[2.   2.75 3.5  4.25 5.  ]\n",
      "(5,)\n",
      "float64\n",
      "12\n"
     ]
    }
   ],
   "source": [
    "#Dtype of empty is float\n",
    "empty_array=np.empty(5)\n",
    "print(empty_array)\n",
    "print(empty_array.shape)\n",
    "print(empty_array.dtype)\n",
    "\n",
    "print(array3d.size)\n",
    "\n"
   ]
  },
  {
   "cell_type": "code",
   "execution_count": 23,
   "metadata": {},
   "outputs": [
    {
     "name": "stdout",
     "output_type": "stream",
     "text": [
      "1\n",
      "2\n",
      "3\n",
      "(2, 2, 3)\n"
     ]
    }
   ],
   "source": [
    "array3d=np.array([\n",
    "    [[1,2,3],[4,5,6]],\n",
    "    [[7,8,9], [10,11,12]]\n",
    "])\n",
    "\n",
    "#Blue breakets are x \n",
    "#yellow are Y\n",
    "#and inner values are z\n",
    "\n",
    "array=np.array([1,2,3])\n",
    "print(array.ndim)\n",
    "print(array2d.ndim)\n",
    "print(array3d.ndim)\n",
    "print(array3d.shape)\n"
   ]
  },
  {
   "cell_type": "code",
   "execution_count": 24,
   "metadata": {},
   "outputs": [
    {
     "name": "stdout",
     "output_type": "stream",
     "text": [
      "96\n",
      "48\n",
      "24\n"
     ]
    }
   ],
   "source": [
    "print(array3d.nbytes)\n",
    "print(array2d.nbytes)\n",
    "print(array.nbytes)\n",
    "\n"
   ]
  },
  {
   "cell_type": "code",
   "execution_count": 25,
   "metadata": {},
   "outputs": [
    {
     "name": "stdout",
     "output_type": "stream",
     "text": [
      "[[[ 1  2  3]\n",
      "  [ 4  5  6]]\n",
      "\n",
      " [[ 7  8  9]\n",
      "  [10 11 12]]]\n",
      "12\n"
     ]
    }
   ],
   "source": [
    "#Accessing the values from 3d dimensions\n",
    "print(array3d)\n",
    "print(array3d[1,1,2])"
   ]
  },
  {
   "cell_type": "code",
   "execution_count": 83,
   "metadata": {},
   "outputs": [
    {
     "name": "stdout",
     "output_type": "stream",
     "text": [
      "[[1. 0. 0.]\n",
      " [0. 1. 0.]\n",
      " [0. 0. 1.]]\n"
     ]
    }
   ],
   "source": [
    "print(np.identity(3))"
   ]
  },
  {
   "cell_type": "code",
   "execution_count": 29,
   "metadata": {},
   "outputs": [
    {
     "name": "stdout",
     "output_type": "stream",
     "text": [
      "[ 8 10]\n",
      "[14 16 18]\n",
      "[[-0.37228132  5.37228132]\n",
      " [-0.15206735 13.15206735]]\n"
     ]
    }
   ],
   "source": [
    "#Determinanat \n",
    "amatrix=np.array(\n",
    "    [\n",
    "        [[1,2],[3,4]],\n",
    "        [[5,6],[7,8]],\n",
    "        \n",
    "        ])\n",
    "# print(amatrix.size())\n",
    "\n",
    "#print(int(np.linalg.det(amatrix)))\n",
    "print(np.trace(amatrix))\n",
    "# Create a 3D matrix\n",
    "matrix_3d = np.array([[[1, 2, 3], [4, 5, 6],[7, 8, 9]],\n",
    "                      [[10, 11, 12], [13, 14, 15],[16, 17, 18]]])\n",
    "print(np.trace(matrix_3d))\n",
    "#Eigenvalues \n",
    "#https://math.libretexts.org/Bookshelves/Linear_Algebra/A_First_Course_in_Linear_Algebra_(Kuttler)/07%3A_Spectral_Theory/7.01%3A_Eigenvalues_and_Eigenvectors_of_a_Matrix\n",
    "#this matrix is such that  AX results in  kX  , for every vector  X.\n",
    "print(np.linalg.eigvals(amatrix))\n"
   ]
  },
  {
   "cell_type": "code",
   "execution_count": 94,
   "metadata": {},
   "outputs": [
    {
     "name": "stdout",
     "output_type": "stream",
     "text": [
      "[[[-2.   1. ]\n",
      "  [ 1.5 -0.5]]\n",
      "\n",
      " [[-4.   3. ]\n",
      "  [ 3.5 -2.5]]]\n"
     ]
    }
   ],
   "source": [
    "#inverse of a metrix\n",
    "print(np.linalg.inv(amatrix))"
   ]
  },
  {
   "cell_type": "code",
   "execution_count": 104,
   "metadata": {},
   "outputs": [
    {
     "name": "stdout",
     "output_type": "stream",
     "text": [
      "[[[1 2]\n",
      "  [3 4]]\n",
      "\n",
      " [[5 6]\n",
      "  [7 8]]]\n",
      "SUm aling axis 0(columns): [[ 6  8]\n",
      " [10 12]]\n",
      "SUm aling axis 1(columns): [[ 4  6]\n",
      " [12 14]]\n",
      "SUm aling axis 2(columns): [[ 3  7]\n",
      " [11 15]]\n"
     ]
    }
   ],
   "source": [
    "#Sum along axis\n",
    "#0 axis: parallel values in each row\n",
    "#1 axis: Parallel values of rows inside each row.\n",
    "#2 axis: Sum of values of inside rows.\n",
    "#Sum along axis\n",
    "print(amatrix)\n",
    "sum_axis_0=np.sum(amatrix,axis=0)\n",
    "print(\"SUm aling axis 0(columns):\",sum_axis_0)\n",
    "sum_axis_1=np.sum(amatrix,axis=1)\n",
    "print(\"SUm aling axis 1(columns):\",sum_axis_1)\n",
    "sum_axis_2=np.sum(amatrix,axis=2)\n",
    "print(\"SUm aling axis 2(columns):\",sum_axis_2)"
   ]
  },
  {
   "cell_type": "code",
   "execution_count": 103,
   "metadata": {},
   "outputs": [
    {
     "name": "stdout",
     "output_type": "stream",
     "text": [
      "(2, 2, 2)\n"
     ]
    }
   ],
   "source": [
    "print(amatrix.shape)"
   ]
  },
  {
   "cell_type": "code",
   "execution_count": 92,
   "metadata": {},
   "outputs": [
    {
     "name": "stdout",
     "output_type": "stream",
     "text": [
      "(2, 3, 4)\n"
     ]
    }
   ],
   "source": [
    "tensor= np.array([\n",
    "    [[1,2,3,4],[5,6,7,8],[9,10,11,12]],\n",
    "    [[13,14,15,16],[17,18,19,20],[21,22,23,24]]\n",
    "    ]\n",
    ")\n",
    "print(tensor.shape)\n"
   ]
  },
  {
   "cell_type": "code",
   "execution_count": 94,
   "metadata": {},
   "outputs": [
    {
     "name": "stdout",
     "output_type": "stream",
     "text": [
      "[[14 16 18 20]\n",
      " [22 24 26 28]\n",
      " [30 32 34 36]]\n",
      "[[15 18 21 24]\n",
      " [51 54 57 60]]\n",
      "[[10 26 42]\n",
      " [58 74 90]]\n"
     ]
    }
   ],
   "source": [
    "sum0=np.sum(tensor,axis=0)\n",
    "print(sum0)\n",
    "sum1=np.sum(tensor,axis=1)\n",
    "print(sum1)\n",
    "sum2=np.sum(tensor,axis=2)\n",
    "print(sum2)\n"
   ]
  },
  {
   "cell_type": "code",
   "execution_count": 98,
   "metadata": {},
   "outputs": [
    {
     "name": "stdout",
     "output_type": "stream",
     "text": [
      "[[ 1]\n",
      " [ 2]\n",
      " [ 3]\n",
      " [ 4]\n",
      " [ 5]\n",
      " [ 6]\n",
      " [ 7]\n",
      " [ 8]\n",
      " [ 9]\n",
      " [10]\n",
      " [11]\n",
      " [12]\n",
      " [13]\n",
      " [14]\n",
      " [15]\n",
      " [16]]\n"
     ]
    }
   ],
   "source": [
    "my_array = np.array([1,2,3,4,5,6,7,8,9,10,11,12,13,14,15,16])\n",
    "#For reshaping the values passed to reshape when both multiplied should give us size of array\n",
    "reshaped_array= my_array.reshape(16,1)\n",
    "print(reshaped_array)\n"
   ]
  },
  {
   "cell_type": "code",
   "execution_count": 103,
   "metadata": {},
   "outputs": [
    {
     "name": "stdout",
     "output_type": "stream",
     "text": [
      "[[ 1]\n",
      " [ 2]\n",
      " [ 3]\n",
      " [ 4]\n",
      " [ 5]\n",
      " [ 6]\n",
      " [ 7]\n",
      " [ 8]\n",
      " [ 9]\n",
      " [10]\n",
      " [11]\n",
      " [12]\n",
      " [13]\n",
      " [14]\n",
      " [15]\n",
      " [16]]\n"
     ]
    }
   ],
   "source": [
    "reshaped_array= my_array.reshape(16,1)\n",
    "print(reshaped_array)"
   ]
  },
  {
   "cell_type": "code",
   "execution_count": 30,
   "metadata": {},
   "outputs": [
    {
     "name": "stdout",
     "output_type": "stream",
     "text": [
      "[1. 1. 1. 1. 1. 1. 1. 1. 1. 1.]\n",
      "[0. 0. 0. 0. 0. 0. 0. 0. 0. 0. 0.]\n",
      "[1. 1. 1. 1. 1. 1. 1. 1. 1. 1.]\n"
     ]
    }
   ],
   "source": [
    "array2d=np.ones(10)\n",
    "print(array2d)\n",
    "array2d=np.zeros(11)\n",
    "print(array2d)\n",
    "array2d=np.empty(10)\n",
    "print(array2d)\n",
    "\n"
   ]
  },
  {
   "cell_type": "code",
   "execution_count": 14,
   "metadata": {},
   "outputs": [
    {
     "name": "stdout",
     "output_type": "stream",
     "text": [
      "5\n"
     ]
    },
    {
     "data": {
      "text/plain": [
       "1234"
      ]
     },
     "execution_count": 14,
     "metadata": {},
     "output_type": "execute_result"
    }
   ],
   "source": [
    "a=12345\n",
    "print(int(a%10))\n",
    "b=a/10\n",
    "int(b)"
   ]
  },
  {
   "cell_type": "code",
   "execution_count": 17,
   "metadata": {},
   "outputs": [
    {
     "name": "stdout",
     "output_type": "stream",
     "text": [
      "32\n"
     ]
    },
    {
     "ename": "AttributeError",
     "evalue": "module 'numpy.linalg' has no attribute 'outer'",
     "output_type": "error",
     "traceback": [
      "\u001b[0;31m---------------------------------------------------------------------------\u001b[0m",
      "\u001b[0;31mAttributeError\u001b[0m                            Traceback (most recent call last)",
      "Cell \u001b[0;32mIn[17], line 9\u001b[0m\n\u001b[1;32m      5\u001b[0m b \u001b[38;5;241m=\u001b[39m np\u001b[38;5;241m.\u001b[39marray([\u001b[38;5;241m4\u001b[39m, \u001b[38;5;241m5\u001b[39m, \u001b[38;5;241m6\u001b[39m])\n\u001b[1;32m      6\u001b[0m \u001b[38;5;28mprint\u001b[39m(np\u001b[38;5;241m.\u001b[39minner(a, b))  \u001b[38;5;66;03m# Output: 32\u001b[39;00m\n\u001b[0;32m----> 9\u001b[0m \u001b[38;5;28mprint\u001b[39m(\u001b[43mnp\u001b[49m\u001b[38;5;241;43m.\u001b[39;49m\u001b[43mlinalg\u001b[49m\u001b[38;5;241;43m.\u001b[39;49m\u001b[43mouter\u001b[49m(a,b))\n",
      "\u001b[0;31mAttributeError\u001b[0m: module 'numpy.linalg' has no attribute 'outer'"
     ]
    }
   ],
   "source": [
    "#Linear Algebra\n",
    "#inner product of arrays\n",
    "import numpy as np\n",
    "a = np.array([1, 2, 3])\n",
    "b = np.array([4, 5, 6])\n",
    "print(np.inner(a, b))  # Output: 32\n",
    "\n",
    "\n",
    "print(np.linalg.outer(a,b))\n"
   ]
  },
  {
   "cell_type": "code",
   "execution_count": null,
   "metadata": {},
   "outputs": [],
   "source": [
    "output=lambda x "
   ]
  }
 ],
 "metadata": {
  "kernelspec": {
   "display_name": "Python 3",
   "language": "python",
   "name": "python3"
  },
  "language_info": {
   "codemirror_mode": {
    "name": "ipython",
    "version": 3
   },
   "file_extension": ".py",
   "mimetype": "text/x-python",
   "name": "python",
   "nbconvert_exporter": "python",
   "pygments_lexer": "ipython3",
   "version": "3.8.10"
  }
 },
 "nbformat": 4,
 "nbformat_minor": 2
}
