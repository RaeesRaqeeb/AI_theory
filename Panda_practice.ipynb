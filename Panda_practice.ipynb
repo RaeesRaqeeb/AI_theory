{
 "cells": [
  {
   "cell_type": "code",
   "execution_count": 54,
   "metadata": {},
   "outputs": [
    {
     "name": "stdout",
     "output_type": "stream",
     "text": [
      "       Name  Age    Country                                   Skills\n",
      "0     Alice   25        USA                        Python, Java, C++\n",
      "1    Fatima   30     Canada                    JavaScript, HTML, CSS\n",
      "2     Aisha   35        USA                          Python, C#, SQL\n",
      "3    Zainab   40     Canada                             Java, C++, C\n",
      "4      Amir   28        USA                    JavaScript, HTML, CSS\n",
      "5     Frank   22         UK  Python, Machine Learning, Deep Learning\n",
      "6     Grace   32  Australia                Data Analysis, SQL, Excel\n",
      "7     Henry   45    Germany                 C, C++, Embedded Systems\n",
      "8  Isabella   27     France         Python, Data Science, Statistics\n",
      "9      Jack   38      Spain               JavaScript, React, Node.js\n"
     ]
    }
   ],
   "source": [
    "import pandas as pd\n",
    "df =pd.read_excel(\"Data_set.xlsx\") # df data frame\n",
    "\n",
    "# A DataFrame in Python, particularly when using the Pandas library, is a two-dimensional, size-mutable, potentially heterogeneous tabular data structure with labeled axes (rows and columns).\n",
    "print(df)\n",
    "\n"
   ]
  },
  {
   "cell_type": "code",
   "execution_count": 55,
   "metadata": {},
   "outputs": [
    {
     "name": "stdout",
     "output_type": "stream",
     "text": [
      "     Name  Age Country                 Skills\n",
      "0   Alice   25     USA      Python, Java, C++\n",
      "1  Fatima   30  Canada  JavaScript, HTML, CSS\n",
      "2   Aisha   35     USA        Python, C#, SQL\n",
      "3  Zainab   40  Canada           Java, C++, C\n",
      "4    Amir   28     USA  JavaScript, HTML, CSS\n"
     ]
    }
   ],
   "source": [
    "#head function give me first 5 rows \n",
    "print(df.head())"
   ]
  },
  {
   "cell_type": "code",
   "execution_count": 56,
   "metadata": {},
   "outputs": [
    {
     "name": "stdout",
     "output_type": "stream",
     "text": [
      "       Name  Age    Country                                   Skills\n",
      "5     Frank   22         UK  Python, Machine Learning, Deep Learning\n",
      "6     Grace   32  Australia                Data Analysis, SQL, Excel\n",
      "7     Henry   45    Germany                 C, C++, Embedded Systems\n",
      "8  Isabella   27     France         Python, Data Science, Statistics\n",
      "9      Jack   38      Spain               JavaScript, React, Node.js\n"
     ]
    }
   ],
   "source": [
    "#Tail function give me last 5 rows \n",
    "print(df.tail())\n"
   ]
  },
  {
   "cell_type": "code",
   "execution_count": 57,
   "metadata": {},
   "outputs": [
    {
     "name": "stdout",
     "output_type": "stream",
     "text": [
      "(10, 4)\n"
     ]
    }
   ],
   "source": [
    "#Shap give us dimensions as a tuples\n",
    "print(df.shape)"
   ]
  },
  {
   "cell_type": "code",
   "execution_count": 58,
   "metadata": {},
   "outputs": [
    {
     "name": "stdout",
     "output_type": "stream",
     "text": [
      "Index(['Name', 'Age', 'Country', 'Skills'], dtype='object')\n"
     ]
    }
   ],
   "source": [
    "print(df.columns)"
   ]
  },
  {
   "cell_type": "code",
   "execution_count": 59,
   "metadata": {},
   "outputs": [
    {
     "name": "stdout",
     "output_type": "stream",
     "text": [
      "Name       object\n",
      "Age         int64\n",
      "Country    object\n",
      "Skills     object\n",
      "dtype: object\n"
     ]
    }
   ],
   "source": [
    "#It give us types of the columns \n",
    "print(df.dtypes)"
   ]
  },
  {
   "cell_type": "code",
   "execution_count": 60,
   "metadata": {},
   "outputs": [
    {
     "name": "stdout",
     "output_type": "stream",
     "text": [
      "<class 'pandas.core.frame.DataFrame'>\n",
      "RangeIndex: 10 entries, 0 to 9\n",
      "Data columns (total 4 columns):\n",
      " #   Column   Non-Null Count  Dtype \n",
      "---  ------   --------------  ----- \n",
      " 0   Name     10 non-null     object\n",
      " 1   Age      10 non-null     int64 \n",
      " 2   Country  10 non-null     object\n",
      " 3   Skills   10 non-null     object\n",
      "dtypes: int64(1), object(3)\n",
      "memory usage: 448.0+ bytes\n",
      "None\n"
     ]
    }
   ],
   "source": [
    "print(df.info())"
   ]
  },
  {
   "cell_type": "code",
   "execution_count": 61,
   "metadata": {},
   "outputs": [
    {
     "name": "stdout",
     "output_type": "stream",
     "text": [
      "<bound method NDFrame.describe of        Name  Age    Country                                   Skills\n",
      "0     Alice   25        USA                        Python, Java, C++\n",
      "1    Fatima   30     Canada                    JavaScript, HTML, CSS\n",
      "2     Aisha   35        USA                          Python, C#, SQL\n",
      "3    Zainab   40     Canada                             Java, C++, C\n",
      "4      Amir   28        USA                    JavaScript, HTML, CSS\n",
      "5     Frank   22         UK  Python, Machine Learning, Deep Learning\n",
      "6     Grace   32  Australia                Data Analysis, SQL, Excel\n",
      "7     Henry   45    Germany                 C, C++, Embedded Systems\n",
      "8  Isabella   27     France         Python, Data Science, Statistics\n",
      "9      Jack   38      Spain               JavaScript, React, Node.js>\n"
     ]
    }
   ],
   "source": [
    "print(df.describe)"
   ]
  },
  {
   "cell_type": "code",
   "execution_count": 62,
   "metadata": {},
   "outputs": [
    {
     "name": "stdout",
     "output_type": "stream",
     "text": [
      "0       Alice\n",
      "1      Fatima\n",
      "2       Aisha\n",
      "3      Zainab\n",
      "4        Amir\n",
      "5       Frank\n",
      "6       Grace\n",
      "7       Henry\n",
      "8    Isabella\n",
      "9        Jack\n",
      "Name: Name, dtype: object\n"
     ]
    }
   ],
   "source": [
    "print(df[\"Name\"])"
   ]
  },
  {
   "cell_type": "code",
   "execution_count": 63,
   "metadata": {},
   "outputs": [
    {
     "name": "stdout",
     "output_type": "stream",
     "text": [
      "       Name  Age\n",
      "0     Alice   25\n",
      "1    Fatima   30\n",
      "2     Aisha   35\n",
      "3    Zainab   40\n",
      "4      Amir   28\n",
      "5     Frank   22\n",
      "6     Grace   32\n",
      "7     Henry   45\n",
      "8  Isabella   27\n",
      "9      Jack   38\n"
     ]
    }
   ],
   "source": [
    "print(df[[\"Name\",\"Age\"]])"
   ]
  },
  {
   "cell_type": "code",
   "execution_count": 64,
   "metadata": {},
   "outputs": [
    {
     "name": "stdout",
     "output_type": "stream",
     "text": [
      "       Name  Age    Country\n",
      "0     Alice   25        USA\n",
      "1    Fatima   30     Canada\n",
      "2     Aisha   35        USA\n",
      "3    Zainab   40     Canada\n",
      "4      Amir   28        USA\n",
      "5     Frank   22         UK\n",
      "6     Grace   32  Australia\n",
      "7     Henry   45    Germany\n",
      "8  Isabella   27     France\n",
      "9      Jack   38      Spain\n"
     ]
    }
   ],
   "source": [
    "#Accessing the columns values using index requires 2 [] paranthesis for more the 1 columns\n",
    "print(df[[\"Name\",\"Age\",\"Country\"]])\n"
   ]
  },
  {
   "cell_type": "code",
   "execution_count": 65,
   "metadata": {},
   "outputs": [
    {
     "name": "stdout",
     "output_type": "stream",
     "text": [
      "Aisha\n"
     ]
    }
   ],
   "source": [
    "#For string value the min and max work according to their index\n",
    "print(df[\"Name\"].min())"
   ]
  },
  {
   "cell_type": "code",
   "execution_count": 66,
   "metadata": {},
   "outputs": [
    {
     "name": "stdout",
     "output_type": "stream",
     "text": [
      "    Name  Age Country             Skills\n",
      "0  Alice   25     USA  Python, Java, C++\n"
     ]
    }
   ],
   "source": [
    "#Head function can also be used to call specific rows of data from data set by providing number of rows and paranthesis\n",
    "print(df.head(1))"
   ]
  },
  {
   "cell_type": "code",
   "execution_count": 67,
   "metadata": {},
   "outputs": [
    {
     "name": "stdout",
     "output_type": "stream",
     "text": [
      "       Name  Age    Country                                   Skills\n",
      "1    Fatima   30     Canada                    JavaScript, HTML, CSS\n",
      "2     Aisha   35        USA                          Python, C#, SQL\n",
      "3    Zainab   40     Canada                             Java, C++, C\n",
      "4      Amir   28        USA                    JavaScript, HTML, CSS\n",
      "5     Frank   22         UK  Python, Machine Learning, Deep Learning\n",
      "6     Grace   32  Australia                Data Analysis, SQL, Excel\n",
      "7     Henry   45    Germany                 C, C++, Embedded Systems\n",
      "8  Isabella   27     France         Python, Data Science, Statistics\n",
      "9      Jack   38      Spain               JavaScript, React, Node.js\n"
     ]
    }
   ],
   "source": [
    "print(df.tail(9))#same as head but from botton"
   ]
  },
  {
   "cell_type": "code",
   "execution_count": 68,
   "metadata": {},
   "outputs": [
    {
     "name": "stdout",
     "output_type": "stream",
     "text": [
      "0     Alice\n",
      "1    Fatima\n",
      "2     Aisha\n",
      "Name: Name, dtype: object\n"
     ]
    }
   ],
   "source": [
    "print(df[\"Name\"].head(3))"
   ]
  },
  {
   "cell_type": "code",
   "execution_count": 69,
   "metadata": {},
   "outputs": [
    {
     "name": "stdout",
     "output_type": "stream",
     "text": [
      "<bound method NDFrame.describe of 0    25\n",
      "1    30\n",
      "2    35\n",
      "3    40\n",
      "4    28\n",
      "5    22\n",
      "6    32\n",
      "7    45\n",
      "8    27\n",
      "9    38\n",
      "Name: Age, dtype: int64>\n"
     ]
    }
   ],
   "source": [
    "print(df[\"Age\"].describe)"
   ]
  },
  {
   "cell_type": "code",
   "execution_count": 70,
   "metadata": {},
   "outputs": [
    {
     "name": "stdout",
     "output_type": "stream",
     "text": [
      "32.2\n"
     ]
    }
   ],
   "source": [
    "print(df[\"Age\"].mean())"
   ]
  },
  {
   "cell_type": "code",
   "execution_count": 71,
   "metadata": {},
   "outputs": [
    {
     "name": "stdout",
     "output_type": "stream",
     "text": [
      "Index(['Name', 'Age', 'Country', 'Skills'], dtype='object')\n"
     ]
    }
   ],
   "source": [
    "col=df.columns\n",
    "print(col)"
   ]
  },
  {
   "cell_type": "code",
   "execution_count": 72,
   "metadata": {},
   "outputs": [
    {
     "name": "stdout",
     "output_type": "stream",
     "text": [
      "0    25\n",
      "1    30\n",
      "2    35\n",
      "3    40\n",
      "4    28\n",
      "5    22\n",
      "6    32\n",
      "7    45\n",
      "8    27\n",
      "9    38\n",
      "Name: Age, dtype: int64\n"
     ]
    }
   ],
   "source": [
    "value=(df[\"Age\"])\n",
    "print(value)"
   ]
  },
  {
   "cell_type": "code",
   "execution_count": 73,
   "metadata": {},
   "outputs": [
    {
     "name": "stdout",
     "output_type": "stream",
     "text": [
      "       Name  Age    Country                                   Skills\n",
      "0     Alice   25        USA                        Python, Java, C++\n",
      "1    Fatima   30     Canada                    JavaScript, HTML, CSS\n",
      "2     Aisha   35        USA                          Python, C#, SQL\n",
      "3    Zainab   40     Canada                             Java, C++, C\n",
      "4      Amir   28        USA                    JavaScript, HTML, CSS\n",
      "5     Frank   22         UK  Python, Machine Learning, Deep Learning\n",
      "6     Grace   32  Australia                Data Analysis, SQL, Excel\n",
      "7     Henry   45    Germany                 C, C++, Embedded Systems\n",
      "8  Isabella   27     France         Python, Data Science, Statistics\n",
      "9      Jack   38      Spain               JavaScript, React, Node.js\n"
     ]
    }
   ],
   "source": [
    "import pandas as pd\n",
    "import numpy as np\n",
    "import csv\n",
    "\n",
    "My_csv_file=\"CSV_file.csv\"\n",
    "\n",
    "df_excel=pd.read_excel(\"Data_set.xlsx\")\n",
    "\n",
    "print(df_excel)\n",
    "df_excel.to_csv(My_csv_file)\n",
    "\n"
   ]
  },
  {
   "cell_type": "code",
   "execution_count": 74,
   "metadata": {},
   "outputs": [
    {
     "name": "stdout",
     "output_type": "stream",
     "text": [
      "   Num1  Num2  Num3  Num4\n",
      "0     1     1     1     6\n",
      "1     1     1     6     1\n",
      "2     3     6     4     2\n",
      "3     9     6     1     9\n"
     ]
    }
   ],
   "source": [
    "DF_numpy=pd.DataFrame(np.random.randint(1,10,(4,4)),columns=['Num1','Num2','Num3','Num4'],index=None)\n",
    "print(DF_numpy)"
   ]
  },
  {
   "cell_type": "code",
   "execution_count": 75,
   "metadata": {},
   "outputs": [
    {
     "ename": "AttributeError",
     "evalue": "'Series' object has no attribute 'begin'",
     "output_type": "error",
     "traceback": [
      "\u001b[0;31m---------------------------------------------------------------------------\u001b[0m",
      "\u001b[0;31mAttributeError\u001b[0m                            Traceback (most recent call last)",
      "\u001b[0;32m/tmp/ipykernel_65288/3009466191.py\u001b[0m in \u001b[0;36m?\u001b[0;34m()\u001b[0m\n\u001b[0;32m----> 1\u001b[0;31m \u001b[0mselecting_rows\u001b[0m\u001b[0;34m=\u001b[0m\u001b[0mdf_excel\u001b[0m\u001b[0;34m[\u001b[0m\u001b[0;34m(\u001b[0m\u001b[0mdf_excel\u001b[0m\u001b[0;34m[\u001b[0m\u001b[0;34m'Name'\u001b[0m\u001b[0;34m]\u001b[0m\u001b[0;34m.\u001b[0m\u001b[0mbegin\u001b[0m\u001b[0;34m==\u001b[0m\u001b[0;34m'Alice'\u001b[0m\u001b[0;34m)\u001b[0m \u001b[0;34m&\u001b[0m \u001b[0;34m(\u001b[0m\u001b[0mdf_excel\u001b[0m\u001b[0;34m[\u001b[0m\u001b[0;34m'Age'\u001b[0m\u001b[0;34m]\u001b[0m \u001b[0;34m>\u001b[0m \u001b[0;36m26\u001b[0m\u001b[0;34m)\u001b[0m\u001b[0;34m]\u001b[0m\u001b[0;34m\u001b[0m\u001b[0;34m\u001b[0m\u001b[0m\n\u001b[0m\u001b[1;32m      2\u001b[0m \u001b[0mprint\u001b[0m\u001b[0;34m(\u001b[0m\u001b[0mselecting_rows\u001b[0m\u001b[0;34m)\u001b[0m\u001b[0;34m\u001b[0m\u001b[0;34m\u001b[0m\u001b[0m\n",
      "\u001b[0;32m~/.local/lib/python3.8/site-packages/pandas/core/generic.py\u001b[0m in \u001b[0;36m?\u001b[0;34m(self, name)\u001b[0m\n\u001b[1;32m   5985\u001b[0m             \u001b[0;32mand\u001b[0m \u001b[0mname\u001b[0m \u001b[0;32mnot\u001b[0m \u001b[0;32min\u001b[0m \u001b[0mself\u001b[0m\u001b[0;34m.\u001b[0m\u001b[0m_accessors\u001b[0m\u001b[0;34m\u001b[0m\u001b[0;34m\u001b[0m\u001b[0m\n\u001b[1;32m   5986\u001b[0m             \u001b[0;32mand\u001b[0m \u001b[0mself\u001b[0m\u001b[0;34m.\u001b[0m\u001b[0m_info_axis\u001b[0m\u001b[0;34m.\u001b[0m\u001b[0m_can_hold_identifiers_and_holds_name\u001b[0m\u001b[0;34m(\u001b[0m\u001b[0mname\u001b[0m\u001b[0;34m)\u001b[0m\u001b[0;34m\u001b[0m\u001b[0;34m\u001b[0m\u001b[0m\n\u001b[1;32m   5987\u001b[0m         ):\n\u001b[1;32m   5988\u001b[0m             \u001b[0;32mreturn\u001b[0m \u001b[0mself\u001b[0m\u001b[0;34m[\u001b[0m\u001b[0mname\u001b[0m\u001b[0;34m]\u001b[0m\u001b[0;34m\u001b[0m\u001b[0;34m\u001b[0m\u001b[0m\n\u001b[0;32m-> 5989\u001b[0;31m         \u001b[0;32mreturn\u001b[0m \u001b[0mobject\u001b[0m\u001b[0;34m.\u001b[0m\u001b[0m__getattribute__\u001b[0m\u001b[0;34m(\u001b[0m\u001b[0mself\u001b[0m\u001b[0;34m,\u001b[0m \u001b[0mname\u001b[0m\u001b[0;34m)\u001b[0m\u001b[0;34m\u001b[0m\u001b[0;34m\u001b[0m\u001b[0m\n\u001b[0m",
      "\u001b[0;31mAttributeError\u001b[0m: 'Series' object has no attribute 'begin'"
     ]
    }
   ],
   "source": [
    "selecting_rows=df_excel[(df_excel['Name'].begin=='Alice') & (df_excel['Age'] > 26)]\n",
    "print(selecting_rows)"
   ]
  },
  {
   "cell_type": "code",
   "execution_count": 33,
   "metadata": {},
   "outputs": [
    {
     "name": "stdout",
     "output_type": "stream",
     "text": [
      "      Name  Age    Country                                   Skills\n",
      "0    Alice   25        USA                        Python, Java, C++\n",
      "1    Alice   30     Canada                    JavaScript, HTML, CSS\n",
      "2  Charlie   35        USA                          Python, C#, SQL\n",
      "3    David   40     Canada                             Java, C++, C\n",
      "4      Eve   28        USA                    JavaScript, HTML, CSS\n",
      "5    Frank   22         UK  Python, Machine Learning, Deep Learning\n",
      "6    Grace   32  Australia                Data Analysis, SQL, Excel\n"
     ]
    }
   ],
   "source": [
    "First_rows=df_excel.head(7)\n",
    "print(First_rows)"
   ]
  },
  {
   "cell_type": "code",
   "execution_count": 36,
   "metadata": {},
   "outputs": [
    {
     "name": "stdout",
     "output_type": "stream",
     "text": [
      "      Name  Age Country                 Skills\n",
      "0    Alice   25     USA      Python, Java, C++\n",
      "2  Charlie   35     USA        Python, C#, SQL\n",
      "4      Eve   28     USA  JavaScript, HTML, CSS\n"
     ]
    }
   ],
   "source": [
    "#filtering\n",
    "US_walay=df_excel[(df_excel['Country']=='USA')]\n",
    "print(US_walay)"
   ]
  },
  {
   "cell_type": "code",
   "execution_count": 80,
   "metadata": {},
   "outputs": [
    {
     "name": "stdout",
     "output_type": "stream",
     "text": [
      "   Unnamed: 0      Name  Happiness  Sadness  Anger  Surprise  Disgust  Love  \\\n",
      "0         0.0     Aisha        8.0      2.0    1.0       6.0      2.0   9.0   \n",
      "1         1.0    Fatima        6.0      4.0    3.0       8.0      1.0   7.0   \n",
      "2         2.0    Zainab        7.0      3.0    2.0       7.0      3.0   8.0   \n",
      "3         3.0      Amir        5.0      5.0    4.0       5.0      4.0   6.0   \n",
      "4         4.0      Omar        9.0      1.0    2.0       9.0      2.0  10.0   \n",
      "5         5.0       Ali        4.0      6.0    5.0       4.0      3.0   5.0   \n",
      "6         6.0    Hassan        6.0      4.0    3.0       6.0      1.0   7.0   \n",
      "7         7.0     Layla        8.0      2.0    1.0       7.0      2.0   9.0   \n",
      "8         8.0      Sara        5.0      5.0    2.0       8.0      4.0   6.0   \n",
      "9         9.0     Bilal        7.0      3.0    4.0       5.0      3.0   8.0   \n",
      "0         NaN     Alice        NaN      NaN    NaN       NaN      NaN   NaN   \n",
      "1         NaN    Fatima        NaN      NaN    NaN       NaN      NaN   NaN   \n",
      "2         NaN     Aisha        NaN      NaN    NaN       NaN      NaN   NaN   \n",
      "3         NaN    Zainab        NaN      NaN    NaN       NaN      NaN   NaN   \n",
      "4         NaN      Amir        NaN      NaN    NaN       NaN      NaN   NaN   \n",
      "5         NaN     Frank        NaN      NaN    NaN       NaN      NaN   NaN   \n",
      "6         NaN     Grace        NaN      NaN    NaN       NaN      NaN   NaN   \n",
      "7         NaN     Henry        NaN      NaN    NaN       NaN      NaN   NaN   \n",
      "8         NaN  Isabella        NaN      NaN    NaN       NaN      NaN   NaN   \n",
      "9         NaN      Jack        NaN      NaN    NaN       NaN      NaN   NaN   \n",
      "\n",
      "    Age    Country                                   Skills   new  \n",
      "0   NaN        NaN                                      NaN   NaN  \n",
      "1   NaN        NaN                                      NaN   NaN  \n",
      "2   NaN        NaN                                      NaN   NaN  \n",
      "3   NaN        NaN                                      NaN   NaN  \n",
      "4   NaN        NaN                                      NaN   NaN  \n",
      "5   NaN        NaN                                      NaN   NaN  \n",
      "6   NaN        NaN                                      NaN   NaN  \n",
      "7   NaN        NaN                                      NaN   NaN  \n",
      "8   NaN        NaN                                      NaN   NaN  \n",
      "9   NaN        NaN                                      NaN   NaN  \n",
      "0  25.0        USA                        Python, Java, C++  12.0  \n",
      "1  30.0     Canada                    JavaScript, HTML, CSS  12.0  \n",
      "2  35.0        USA                          Python, C#, SQL  12.0  \n",
      "3  40.0     Canada                             Java, C++, C  12.0  \n",
      "4  28.0        USA                    JavaScript, HTML, CSS  12.0  \n",
      "5  22.0         UK  Python, Machine Learning, Deep Learning  12.0  \n",
      "6  32.0  Australia                Data Analysis, SQL, Excel  12.0  \n",
      "7  45.0    Germany                 C, C++, Embedded Systems  12.0  \n",
      "8  27.0     France         Python, Data Science, Statistics  12.0  \n",
      "9  38.0      Spain               JavaScript, React, Node.js  12.0  \n"
     ]
    },
    {
     "data": {
      "text/plain": [
       "32.2"
      ]
     },
     "execution_count": 80,
     "metadata": {},
     "output_type": "execute_result"
    }
   ],
   "source": [
    "new_column=df_excel['Country']\n",
    "# print(new_column)\n",
    "df_excel['new']=12\n",
    "# print(df_excel)\n",
    "Emotions='Emotion.csv'\n",
    "\n",
    "df_Emotions=pd.read_csv(Emotions)\n",
    "\n",
    "# print(df_Emotions)\n",
    "\n",
    "merged=df_excel.merge(df_Emotions,on='Name')\n",
    "\n",
    "# print(merged)\n",
    "\n",
    "\n",
    "#concatenation\n",
    "concatenation=pd.concat([df_Emotions,df_excel])\n",
    "print(concatenation)\n",
    "\n",
    "df_excel['Age'].mean()\n"
   ]
  },
  {
   "cell_type": "code",
   "execution_count": null,
   "metadata": {},
   "outputs": [],
   "source": [
    "import os\n",
    "\n"
   ]
  }
 ],
 "metadata": {
  "kernelspec": {
   "display_name": "Python 3",
   "language": "python",
   "name": "python3"
  },
  "language_info": {
   "codemirror_mode": {
    "name": "ipython",
    "version": 3
   },
   "file_extension": ".py",
   "mimetype": "text/x-python",
   "name": "python",
   "nbconvert_exporter": "python",
   "pygments_lexer": "ipython3",
   "version": "3.8.10"
  }
 },
 "nbformat": 4,
 "nbformat_minor": 2
}
